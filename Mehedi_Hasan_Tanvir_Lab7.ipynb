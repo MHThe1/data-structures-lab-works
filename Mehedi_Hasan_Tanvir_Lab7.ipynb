{
  "nbformat": 4,
  "nbformat_minor": 0,
  "metadata": {
    "colab": {
      "provenance": []
    },
    "kernelspec": {
      "name": "python3",
      "display_name": "Python 3"
    },
    "language_info": {
      "name": "python"
    }
  },
  "cells": [
    {
      "cell_type": "code",
      "execution_count": 6,
      "metadata": {
        "id": "uvKNBQkojd9b",
        "colab": {
          "base_uri": "https://localhost:8080/"
        },
        "outputId": "4a557f27-48ad-454c-da48-f2bc245c6393"
      },
      "outputs": [
        {
          "output_type": "stream",
          "name": "stdout",
          "text": [
            "[-3, -2, -1, 1, 2, 3, 3, 4, 5, 6, 7]\n",
            "True\n",
            "\n",
            "==================================================\n",
            "\n",
            "[-9, -7, -4, 2, 3, 3, 4, 7]\n",
            "False\n"
          ]
        }
      ],
      "source": [
        "#Task 1\n",
        "\n",
        "class KeyIndex:\n",
        "  def __init__(self, a):\n",
        "    self.a = a\n",
        "    self.min = 99999999\n",
        "    for i in self.a:\n",
        "      if i<self.min:\n",
        "        self.min = i\n",
        "    if self.min < 0:\n",
        "      self.xfact = self.min * -1\n",
        "    else:\n",
        "      self.xfact = self.min\n",
        "    for i in range(len(self.a)):\n",
        "      self.a[i] = self.a[i]+self.xfact\n",
        "    \n",
        "    self.max = -999999\n",
        "    for i in self.a:\n",
        "      if i>self.max:\n",
        "        self.max = i\n",
        "    \n",
        "    self.k = [0]*(self.max+1)\n",
        "    \n",
        "    for i in range(len(self.a)):\n",
        "      self.k[self.a[i]] += 1\n",
        "  \n",
        "  def sort(self):  \n",
        "    n = 0\n",
        "    for i in self.k:\n",
        "      if i > 0:\n",
        "        n+=1\n",
        "\n",
        "    if self.min >= 0:\n",
        "      ai = 0\n",
        "      for i in range(len(self.k)):\n",
        "        if self.k[i]==1:\n",
        "          self.a[ai]= i\n",
        "          ai += 1\n",
        "        elif self.k[i]>1:\n",
        "          for ii in range(self.k[i]):\n",
        "            self.a[ai+ii] = i\n",
        "          ai += self.k[i]\n",
        "    \n",
        "    else:\n",
        "      ai = 0\n",
        "      for i in range(len(self.k)):\n",
        "        if self.k[i]==1:\n",
        "          self.a[ai]= i+self.min\n",
        "          ai += 1\n",
        "        elif self.k[i]>1:\n",
        "          for ii in range(self.k[i]):\n",
        "            self.a[ai+ii] = i+self.min\n",
        "          ai += self.k[i]\n",
        "      \n",
        "    return(self.a)\n",
        "\n",
        "  def search(self, target):\n",
        "    start = 0\n",
        "    end = len(self.a)-1\n",
        "    self.sort()\n",
        "\n",
        "    while end>=start:\n",
        "      mid = (start + end) // 2\n",
        "      if self.a[mid] == target:\n",
        "        return True\n",
        "      elif self.a[mid] > target:\n",
        "        end = mid - 1\n",
        "      elif self.a[mid] < target:\n",
        "        start = mid + 1\n",
        "\n",
        "    return False\n",
        "\n",
        "        \n",
        "a1 = KeyIndex([1, -2, -3, 4, 5, 7, -1, 2, 3, 3, 6])\n",
        "print(a1.sort())\n",
        "print(a1.search(5))\n",
        "print(\"\\n==================================================\\n\")\n",
        "a2 = KeyIndex([-4, 7, 3, 3, 4, 2, -9, -7])\n",
        "print(a2.sort())\n",
        "print(a2.search(99))"
      ]
    },
    {
      "cell_type": "code",
      "source": [
        "#Task 2\n",
        "\n",
        "class HashTable:\n",
        "  def __init__(self, arr):\n",
        "    self.vowelsa = ['A', 'E', 'I', 'O', 'U']\n",
        "    self.numa = ['0', '1', '2', '3', '4', '5', '6', '7', '8', '9']\n",
        "    self.table = [0]*9\n",
        "    self.arr = arr\n",
        "    for i in range(len(arr)):\n",
        "      self.key_calc(self.arr[i])\n",
        "    print(self.table)\n",
        "  \n",
        "  def key_calc(self, strval):\n",
        "    self.strval = strval\n",
        "    consn = 0\n",
        "    digsum = 0\n",
        "    for i in range(len(self.strval)):\n",
        "      if self.strval[i] in self.numa:\n",
        "        digsum += int(self.strval[i])\n",
        "      elif self.strval[i] not in self.vowelsa and self.strval[i] not in self.numa:\n",
        "        consn += 1\n",
        "    \n",
        "    key = (consn * 24 + digsum) % 9\n",
        "    self.table_add(strval, key)\n",
        "\n",
        "  def table_add(self, strval, key):\n",
        "    if self.table[key]==0:\n",
        "      self.table[key] = strval\n",
        "    else:\n",
        "      for i in range(len(self.table)):\n",
        "        nk = (key+i)%len(self.table)\n",
        "        if self.table[nk]==0:\n",
        "          self.table[nk]= strval\n",
        "          break\n",
        "\n",
        "\n",
        "a=[\"ST1E89B8A32\",\"MJE537KLOST\",\"WN2NY5422FD\",\"STVOP00123B\",\"9XZAR2J6F7D\",\"DGG94F5SMC2\",\"NDT89I7DN7V\",\"KOLNX46TT21\",\"567MONDAY98\"]\n",
        "g1 = HashTable(a)"
      ],
      "metadata": {
        "colab": {
          "base_uri": "https://localhost:8080/"
        },
        "id": "XUh1aPwF9BlD",
        "outputId": "8a7ab126-e755-4fe0-a222-feb46c2d62e6"
      },
      "execution_count": 4,
      "outputs": [
        {
          "output_type": "stream",
          "name": "stdout",
          "text": [
            "['STVOP00123B', 'DGG94F5SMC2', 'KOLNX46TT21', '567MONDAY98', 'ST1E89B8A32', 'NDT89I7DN7V', 'MJE537KLOST', 'WN2NY5422FD', '9XZAR2J6F7D']\n"
          ]
        }
      ]
    }
  ]
}