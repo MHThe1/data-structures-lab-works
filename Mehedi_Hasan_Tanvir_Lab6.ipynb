{
  "nbformat": 4,
  "nbformat_minor": 0,
  "metadata": {
    "colab": {
      "provenance": []
    },
    "kernelspec": {
      "name": "python3",
      "display_name": "Python 3"
    },
    "language_info": {
      "name": "python"
    }
  },
  "cells": [
    {
      "cell_type": "markdown",
      "source": [
        "# Task 1"
      ],
      "metadata": {
        "id": "EQGSf_XuvWdg"
      }
    },
    {
      "cell_type": "code",
      "execution_count": null,
      "metadata": {
        "colab": {
          "base_uri": "https://localhost:8080/"
        },
        "id": "ks5SxxvKvK75",
        "outputId": "92d17094-d0be-4aa0-a1a4-0b53cf00e757"
      },
      "outputs": [
        {
          "output_type": "execute_result",
          "data": {
            "text/plain": [
              "120"
            ]
          },
          "metadata": {},
          "execution_count": 1
        }
      ],
      "source": [
        "# 1(a)\n",
        "\n",
        "def fact(n):\n",
        "  if n>0:\n",
        "    return n*fact(n-1)\n",
        "  else:\n",
        "    return 1\n",
        "\n",
        "fact(5)"
      ]
    },
    {
      "cell_type": "code",
      "source": [
        "# 1(b)\n",
        "\n",
        "def fibo(n):\n",
        "  if n==1:\n",
        "    return 0\n",
        "  elif 1<n<=3:\n",
        "    return n+fibo(n-1)\n",
        "  else:\n",
        "    return n+fibo(n-1)\n",
        "\n",
        "fibo(5)"
      ],
      "metadata": {
        "colab": {
          "base_uri": "https://localhost:8080/"
        },
        "id": "wnMI26SmvYzC",
        "outputId": "93f62ffa-988e-4b87-ba91-3c5ca6e3b371"
      },
      "execution_count": null,
      "outputs": [
        {
          "output_type": "execute_result",
          "data": {
            "text/plain": [
              "14"
            ]
          },
          "metadata": {},
          "execution_count": 2
        }
      ]
    },
    {
      "cell_type": "code",
      "source": [
        "# 1(c)\n",
        "\n",
        "def parr(arr, i=0):\n",
        "  if i<len(arr):\n",
        "    print(arr[i], end=\" \")\n",
        "    parr(arr, i+1)\n",
        "\n",
        "\n",
        "garr=[1,2,3,4,5,6,7,8,9]\n",
        "parr(garr)"
      ],
      "metadata": {
        "colab": {
          "base_uri": "https://localhost:8080/"
        },
        "id": "vZ8K_J_4vcnB",
        "outputId": "c39d6b09-4f95-41c3-b930-cd39545cbaaf"
      },
      "execution_count": null,
      "outputs": [
        {
          "output_type": "stream",
          "name": "stdout",
          "text": [
            "1 2 3 4 5 6 7 8 9 "
          ]
        }
      ]
    },
    {
      "cell_type": "code",
      "source": [
        "# 1(d)\n",
        "\n",
        "def powerN(b, p):\n",
        "  if p>0:\n",
        "    return b*powerN(b, p-1)\n",
        "  else:\n",
        "    return 1\n",
        "\n",
        "print(f\"powerN(3,1) --> {powerN(3, 1)}\")\n",
        "print(f\"powerN(3,2) --> {powerN(3, 2)}\")\n",
        "print(f\"powerN(3,3) --> {powerN(3, 3)}\")\n",
        "print(f\"powerN(3,4) --> {powerN(3, 4)}\")"
      ],
      "metadata": {
        "colab": {
          "base_uri": "https://localhost:8080/"
        },
        "id": "5pBUOV__veXI",
        "outputId": "c7531937-0d69-46e8-e651-9eb9a72d3fcb"
      },
      "execution_count": null,
      "outputs": [
        {
          "output_type": "stream",
          "name": "stdout",
          "text": [
            "powerN(3,1) --> 3\n",
            "powerN(3,2) --> 9\n",
            "powerN(3,3) --> 27\n",
            "powerN(3,4) --> 81\n"
          ]
        }
      ]
    },
    {
      "cell_type": "markdown",
      "source": [
        "# Task 2"
      ],
      "metadata": {
        "id": "O61h1IKVvgr0"
      }
    },
    {
      "cell_type": "code",
      "source": [
        "# 2(a)\n",
        "\n",
        "def binaryConv(n):\n",
        "  if n > 1:\n",
        "    b = n%2\n",
        "    n = n//2\n",
        "    s = binaryConv(n)\n",
        "    return str(s) + str(b)\n",
        "  elif n==0:\n",
        "    return 0\n",
        "  elif n==1:\n",
        "    return 1\n",
        "\n",
        "print(binaryConv(10))"
      ],
      "metadata": {
        "colab": {
          "base_uri": "https://localhost:8080/"
        },
        "id": "D3c35AnyvhKI",
        "outputId": "ff39dcbf-51be-478c-8717-41255bcd5f4c"
      },
      "execution_count": null,
      "outputs": [
        {
          "output_type": "stream",
          "name": "stdout",
          "text": [
            "1010\n"
          ]
        }
      ]
    },
    {
      "cell_type": "code",
      "source": [
        "# 2(b)\n",
        "\n",
        "class Node:\n",
        "  def __init__(self, element, next):\n",
        "    self.element = element\n",
        "    self.next = next\n",
        "\n",
        "class LinkedList:\n",
        "  \n",
        "  def __init__(self, a):\n",
        "    self.head = None\n",
        "    if type(a)==list:\n",
        "      self.head = Node(a[0], None)\n",
        "      self.tail = self.head\n",
        "      if len(a)>0:\n",
        "        self.otherelem(a)\n",
        "    else:\n",
        "      self.head = a\n",
        "  \n",
        "  def otherelem(self, a, i=1):\n",
        "    if i<len(a):\n",
        "      n = Node(a[i], None)\n",
        "      self.tail.next = n\n",
        "      self.tail = n\n",
        "      self.otherelem(a, i+1)\n",
        "\n",
        "  def printarr(self, cnode=None, i=0):\n",
        "    if i == 0:\n",
        "      cnode = self.head\n",
        "      print(cnode.element, end=\" --> \")\n",
        "      self.printarr(cnode.next, i+1)\n",
        "    elif cnode != None:\n",
        "      if cnode.next != None:\n",
        "        print(cnode.element, end=\" --> \")\n",
        "      else:\n",
        "        print(cnode.element)\n",
        "      self.printarr(cnode.next, i+1)\n",
        "\n",
        "  def addelements(self, cnode=None, i=0, total=0):\n",
        "    if i == 0:\n",
        "      cnode = self.head\n",
        "      total += cnode.element\n",
        "      return self.addelements(cnode.next, i+1, total)\n",
        "    elif cnode != None:\n",
        "      total += cnode.element\n",
        "      return self.addelements(cnode.next, i+1, total)\n",
        "    else:\n",
        "      return total\n",
        "\n",
        "arr = [1, 2, 3, 4, 5, 6, 7, 8, 9, 10]\n",
        "linkedarr = LinkedList(arr)\n",
        "print(\"Linked List: \", end=\"\")\n",
        "linkedarr.printarr()\n",
        "print()\n",
        "result = linkedarr.addelements()\n",
        "print(\"Summation:\", result)"
      ],
      "metadata": {
        "colab": {
          "base_uri": "https://localhost:8080/"
        },
        "id": "ddnusHAJvq7Y",
        "outputId": "f3a28a9b-9ca5-40f6-ce8f-331eb57cd171"
      },
      "execution_count": null,
      "outputs": [
        {
          "output_type": "stream",
          "name": "stdout",
          "text": [
            "Linked List: 1 --> 2 --> 3 --> 4 --> 5 --> 6 --> 7 --> 8 --> 9 --> 10\n",
            "\n",
            "Summation: 55\n"
          ]
        }
      ]
    },
    {
      "cell_type": "code",
      "source": [
        "# 2(c)\n",
        "\n",
        "class Node:\n",
        "  def __init__(self, element, next):\n",
        "    self.element = element\n",
        "    self.next = next\n",
        "\n",
        "class LinkedList:\n",
        "  \n",
        "  def __init__(self, a):\n",
        "    self.head = None\n",
        "    if type(a)==list:\n",
        "      self.head = Node(a[0], None)\n",
        "      self.tail = self.head\n",
        "      if len(a)>0:\n",
        "        self.otherelem(a)\n",
        "    else:\n",
        "      self.head = a\n",
        "  \n",
        "  def otherelem(self, a, i=1):\n",
        "    if i<len(a):\n",
        "      n = Node(a[i], None)\n",
        "      self.tail.next = n\n",
        "      self.tail = n\n",
        "      self.otherelem(a, i+1)\n",
        "\n",
        "  def revprintarr(self, cnode=None, i=0):\n",
        "    if i == 0:\n",
        "      cnode = self.head\n",
        "      self.revprintarr(cnode.next, i+1)\n",
        "      print(cnode.element)\n",
        "    elif cnode != None:\n",
        "      self.revprintarr(cnode.next, i+1)\n",
        "      print(cnode.element)\n",
        "\n",
        "narr = [1, 2, 3, 4, 5, 6, 7, 8, 9, 10]\n",
        "newarr = LinkedList(narr)\n",
        "newarr.revprintarr()"
      ],
      "metadata": {
        "colab": {
          "base_uri": "https://localhost:8080/"
        },
        "id": "Lsqxt1gGvtVB",
        "outputId": "17d9e33a-10b0-4ca8-e671-529f7dd2a34a"
      },
      "execution_count": null,
      "outputs": [
        {
          "output_type": "stream",
          "name": "stdout",
          "text": [
            "10\n",
            "9\n",
            "8\n",
            "7\n",
            "6\n",
            "5\n",
            "4\n",
            "3\n",
            "2\n",
            "1\n"
          ]
        }
      ]
    },
    {
      "cell_type": "markdown",
      "source": [
        "# Task 3"
      ],
      "metadata": {
        "id": "kTk7XkQ2vvjc"
      }
    },
    {
      "cell_type": "code",
      "source": [
        "# 3\n",
        "\n",
        "def building(n):\n",
        "  if n==0:\n",
        "    return f\"No building was built\"\n",
        "  elif n==1:\n",
        "    return 8\n",
        "  elif n>1:\n",
        "    return 5+building(n-1)\n",
        "\n",
        "print(building(3))"
      ],
      "metadata": {
        "colab": {
          "base_uri": "https://localhost:8080/"
        },
        "id": "0HtZjpOPvyfS",
        "outputId": "17a40484-91fa-4e06-d98a-ce94bf3c9cd7"
      },
      "execution_count": null,
      "outputs": [
        {
          "output_type": "stream",
          "name": "stdout",
          "text": [
            "18\n"
          ]
        }
      ]
    },
    {
      "cell_type": "markdown",
      "source": [
        "# Task 4"
      ],
      "metadata": {
        "id": "H3jYQ4vlv2Al"
      }
    },
    {
      "cell_type": "code",
      "source": [
        "# 4(a)\n",
        "\n",
        "def pattern(n, c=1, p=1):\n",
        "  if n>0:\n",
        "    if p<c:\n",
        "      print(p, end=\"\")\n",
        "      pattern(n, c, p+1)\n",
        "    elif c==p:\n",
        "      print(p)\n",
        "      pattern(n-1, c+1)\n",
        "\n",
        "pattern(5)"
      ],
      "metadata": {
        "colab": {
          "base_uri": "https://localhost:8080/"
        },
        "id": "iAPk8nLiv2k7",
        "outputId": "f8c53c69-aea9-4a4a-eb86-2a48809081fc"
      },
      "execution_count": null,
      "outputs": [
        {
          "output_type": "stream",
          "name": "stdout",
          "text": [
            "1\n",
            "12\n",
            "123\n",
            "1234\n",
            "12345\n"
          ]
        }
      ]
    },
    {
      "cell_type": "code",
      "source": [
        "# 4(b)\n",
        "\n",
        "def rpattern(n, c=1, p=1, s=1):\n",
        "  if c<=n:\n",
        "    if s<=n-c:\n",
        "      print(\" \", end=\"\")\n",
        "      rpattern(n, c, p, s+1)\n",
        "    elif n-c<s<n:\n",
        "      print(p, end=\"\")\n",
        "      rpattern(n, c, p+1, s+1)\n",
        "    elif s==n:\n",
        "      print(p)\n",
        "      rpattern(n, c+1)\n",
        "\n",
        "rpattern(5)"
      ],
      "metadata": {
        "colab": {
          "base_uri": "https://localhost:8080/"
        },
        "id": "jyOQuA5Dv4HG",
        "outputId": "8d1fb54c-bf97-45b0-88b3-ff7c85d7e1c0"
      },
      "execution_count": null,
      "outputs": [
        {
          "output_type": "stream",
          "name": "stdout",
          "text": [
            "    1\n",
            "   12\n",
            "  123\n",
            " 1234\n",
            "12345\n"
          ]
        }
      ]
    },
    {
      "cell_type": "markdown",
      "source": [
        "# Task 5"
      ],
      "metadata": {
        "id": "lEN4UYV0v8PC"
      }
    },
    {
      "cell_type": "code",
      "source": [
        "# 5\n",
        "\n",
        "import sys\n",
        "sys.setrecursionlimit(20000)\n",
        "\n",
        "class FinalQ: \n",
        " def print(self,array,idx): \n",
        "  if(idx<len(array)): \n",
        "    profit = self.calcProfit(array[idx])  #TO DO\n",
        "    print(f\"Investment: {array[idx]}; Profit: {profit}\")\n",
        "    self.print(array, idx+1)\n",
        "  \n",
        " def calcProfit(self,investment): \n",
        "  # TO DO\n",
        "  if investment<=25000:\n",
        "    return 0\n",
        "  elif 25000<investment<=100000:\n",
        "    return 4.5 + self.calcProfit(investment-100)\n",
        "  else:\n",
        "    return 8 + self.calcProfit(investment-100)\n",
        "  \n",
        "#Tester \n",
        "array=[25000,100000,250000,350000] \n",
        "f = FinalQ() \n",
        "f.print(array,0)"
      ],
      "metadata": {
        "colab": {
          "base_uri": "https://localhost:8080/"
        },
        "id": "H98ntNdRv8yW",
        "outputId": "88140bfd-cec2-4ed6-d9c0-b816a5b7ce85"
      },
      "execution_count": null,
      "outputs": [
        {
          "output_type": "stream",
          "name": "stdout",
          "text": [
            "Investment: 25000; Profit: 0\n",
            "Investment: 100000; Profit: 3375.0\n",
            "Investment: 250000; Profit: 15375.0\n",
            "Investment: 350000; Profit: 23375.0\n"
          ]
        }
      ]
    },
    {
      "cell_type": "markdown",
      "source": [
        "# Updated New Task 1"
      ],
      "metadata": {
        "id": "_3LMa5DnwD2g"
      }
    },
    {
      "cell_type": "code",
      "source": [
        "def pop(given, narr, idx=1):\n",
        "  if idx<len(given):\n",
        "    narr.append(given[idx])\n",
        "    pop(given, narr, idx+1)\n",
        "  return narr\n",
        "\n",
        "def flattenList(garr, outarr):\n",
        "  if len(garr)==0:\n",
        "    return outarr\n",
        "  elif type(garr[0])==list:\n",
        "    flattenList(garr[0], outarr)\n",
        "\n",
        "  elif type(garr[0])==int:\n",
        "    outarr.append(garr[0])\n",
        "  garr = pop(garr, [])\n",
        "  flattenList(garr, outarr)\n",
        "  return outarr\n",
        "\n",
        "\n",
        "\n",
        "\n",
        "given_list = [1, [2, [3, [4], 5], 6], 7, 8, [9, [[10, 11], 12], 13], 14, [15, [16, [17]]]]\n",
        "output_list = flattenList(given_list, []) # Initial empty list is sent for update \n",
        "\n",
        "print(output_list)"
      ],
      "metadata": {
        "colab": {
          "base_uri": "https://localhost:8080/"
        },
        "id": "noMZclzewETZ",
        "outputId": "72d39410-04ec-4bec-80ca-c78423afa36d"
      },
      "execution_count": null,
      "outputs": [
        {
          "output_type": "stream",
          "name": "stdout",
          "text": [
            "[1, 2, 3, 4, 5, 6, 7, 8, 9, 10, 11, 12, 13, 14, 15, 16, 17]\n"
          ]
        }
      ]
    }
  ]
}