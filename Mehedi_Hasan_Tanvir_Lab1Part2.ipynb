{
  "nbformat": 4,
  "nbformat_minor": 0,
  "metadata": {
    "colab": {
      "provenance": []
    },
    "kernelspec": {
      "name": "python3",
      "display_name": "Python 3"
    },
    "language_info": {
      "name": "python"
    }
  },
  "cells": [
    {
      "cell_type": "code",
      "execution_count": 1,
      "metadata": {
        "colab": {
          "base_uri": "https://localhost:8080/"
        },
        "id": "iLh-pJVxhpoW",
        "outputId": "86fa799c-5fa5-4996-dd6d-c90cd5138bba"
      },
      "outputs": [
        {
          "output_type": "stream",
          "name": "stdout",
          "text": [
            "The mean of the numbers is: 10.181818181818182\n",
            "The standard deviation is: 7.96\n",
            "New array: [25, -5]\n"
          ]
        }
      ],
      "source": [
        "def Meanval(garr):\n",
        "  sum = 0\n",
        "  for i in range(0, len(garr)):\n",
        "    sum+=garr[i]\n",
        "  mean = sum/len(garr)\n",
        "\n",
        "  return mean\n",
        "\n",
        "def Standev(garr):\n",
        "  sd = 0\n",
        "\n",
        "  somepart = 0\n",
        "  for i in range(0, len(garr)):\n",
        "    somepart += (garr[i]-Meanval(garr))**2\n",
        "\n",
        "  sd = (somepart/(len(garr)-1))**0.5\n",
        "\n",
        "  sd = (int(sd * 100))/100\n",
        "  \n",
        "  return sd\n",
        "\n",
        "def Condarr(garr):\n",
        "\n",
        "  c = 0\n",
        "\n",
        "  for i in range(0, len(garr)):\n",
        "    z = (garr[i]-Meanval(garr))/Standev(garr)\n",
        "    if z >= 1.5 or z <= -1.5:\n",
        "      c += 1\n",
        "\n",
        "  nvarr = [None]*c\n",
        "  x = 0\n",
        "  for i in range(0, len(garr)):\n",
        "    z = (garr[i]-Meanval(garr))/Standev(garr)\n",
        "    if z >= 1.5 or z <= -1.5:\n",
        "      nvarr[x]=garr[i]\n",
        "      x += 1\n",
        "\n",
        "  return nvarr\n",
        "\n",
        "\n",
        "garr = [10, 8, 13, 9, 14, 25, -5, 20, 7, 7, 4]\n",
        "print(\"The mean of the numbers is:\", Meanval(garr))\n",
        "print(\"The standard deviation is:\", Standev(garr))\n",
        "print(\"New array:\", Condarr(garr))"
      ]
    }
  ]
}